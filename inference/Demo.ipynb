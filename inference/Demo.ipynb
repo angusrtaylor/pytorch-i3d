{
 "cells": [
  {
   "cell_type": "code",
   "execution_count": 1,
   "metadata": {},
   "outputs": [],
   "source": [
    "from IPython.display import clear_output\n",
    "import PIL.Image\n",
    "from io import BytesIO\n",
    "import IPython.display\n",
    "import time\n",
    "import sys\n",
    "sys.path.append('..')\n",
    "import torch\n",
    "import torch.nn as nn\n",
    "import torch.nn.functional as F\n",
    "from pathlib import Path"
   ]
  },
  {
   "cell_type": "code",
   "execution_count": 2,
   "metadata": {},
   "outputs": [],
   "source": [
    "def get_class_dict():\n",
    "    class_dict = {}\n",
    "    file_list = sorted(Path('../data/hmdb51_splits').glob('*1.txt'))\n",
    "    video_list = []\n",
    "    for class_idx, f in enumerate(file_list):\n",
    "        class_name = str(f).strip().split('/')[3][:-16]\n",
    "        class_dict[class_idx] = class_name\n",
    "    return class_dict"
   ]
  },
  {
   "cell_type": "code",
   "execution_count": 3,
   "metadata": {},
   "outputs": [],
   "source": [
    "class_dict = get_class_dict()"
   ]
  },
  {
   "cell_type": "code",
   "execution_count": 4,
   "metadata": {},
   "outputs": [],
   "source": [
    "#Use 'jpeg' instead of 'png' (~5 times faster)\n",
    "def array_to_image(a, fmt='jpeg'):\n",
    "    #Create binary stream object\n",
    "    f = BytesIO()\n",
    "    \n",
    "    #Convert array to binary stream object\n",
    "    PIL.Image.fromarray(a).save(f, fmt)\n",
    "    \n",
    "    return IPython.display.Image(data=f.getvalue())"
   ]
  },
  {
   "cell_type": "code",
   "execution_count": 5,
   "metadata": {},
   "outputs": [],
   "source": [
    "from slidingwindow import load_model, construct_input, predict_input"
   ]
  },
  {
   "cell_type": "code",
   "execution_count": 6,
   "metadata": {},
   "outputs": [],
   "source": [
    "model = load_model(\n",
    "        modality=\"RGB\",\n",
    "        state_dict_file=\"../pretrained_chkpt/rgb_hmdb_split1.pt\"\n",
    "    )"
   ]
  },
  {
   "cell_type": "code",
   "execution_count": 7,
   "metadata": {},
   "outputs": [],
   "source": [
    "def predict_window(frames, model, d2, class_dict):\n",
    "    with torch.no_grad():\n",
    "        batch = construct_input(frames)\n",
    "        window_predictions = predict_input(model, batch)\n",
    "        window_proba = F.softmax(window_predictions, dim=1)\n",
    "        window_top_pred = window_proba.max(1)\n",
    "        class_pred = class_dict[window_top_pred.indices.cpu().numpy()[0]]\n",
    "        s = f\"\"\"class_pred: {class_pred}\"\"\"\n",
    "        d2.update( IPython.display.HTML(s) )\n",
    "        #print((\"Class pred:{0} Class proba:{1}\".format(\n",
    "        #    window_top_pred.indices.cpu().numpy()[0],\n",
    "        #    window_top_pred.values.cpu().numpy()[0])\n",
    "        #))"
   ]
  },
  {
   "cell_type": "code",
   "execution_count": 8,
   "metadata": {},
   "outputs": [
    {
     "data": {
      "image/jpeg": "[encoded data removed]",
      "text/plain": [
       "<IPython.core.display.Image object>"
      ]
     },
     "metadata": {},
     "output_type": "display_data"
    },
    {
     "data": {
      "text/html": [
       "class_pred: brush_hair"
      ],
      "text/plain": [
       "<IPython.core.display.HTML object>"
      ]
     },
     "metadata": {},
     "output_type": "display_data"
    }
   ],
   "source": [
    "import cv2\n",
    "\n",
    "import os\n",
    "\n",
    "%matplotlib inline\n",
    "from matplotlib import pyplot as plt\n",
    "\n",
    "fps = 30\n",
    "window_len = 60\n",
    "eval_freq = 10\n",
    "#cap = cv2.VideoCapture('./BATMAN_BEGINS_drink_h_nm_np1_fr_goo_9.avi')\n",
    "cap = cv2.VideoCapture('/datadir/longvid/longvid.avi')\n",
    "#cap.set(cv2.CAP_PROP_FPS, fps)\n",
    "iter = 0\n",
    "window_frame_list = []\n",
    "\n",
    "d = IPython.display.display(\"\", display_id=1)\n",
    "d2 = IPython.display.display(\"\", display_id=2)\n",
    "\n",
    "while(True):\n",
    "    ret, frame = cap.read()\n",
    "    if not ret:\n",
    "        break\n",
    "    rgb_frame = cv2.cvtColor(frame, cv2.COLOR_BGR2RGB)\n",
    "    rgb_pil_im = PIL.Image.fromarray(rgb_frame)\n",
    "    im = array_to_image(rgb_frame)\n",
    "    d.update(im)\n",
    "    #time.sleep(1/fps)\n",
    "    window_frame_list.append(rgb_pil_im)\n",
    "    iter += 1\n",
    "    if (len(window_frame_list) >= window_len) and (iter % eval_freq == 0):\n",
    "        predict_window(window_frame_list, model, d2, class_dict)\n",
    "        window_frame_list = window_frame_list[eval_freq:]\n",
    "\n",
    "cap.release()"
   ]
  },
  {
   "cell_type": "markdown",
   "metadata": {},
   "source": [
    "Performance testing"
   ]
  },
  {
   "cell_type": "code",
   "execution_count": 12,
   "metadata": {},
   "outputs": [],
   "source": [
    "video_path = '/datadir/rawframes/brush_hair/Aussie_Brunette_Brushing_Long_Hair_brush_hair_u_nm_np1_ba_med_3/'"
   ]
  },
  {
   "cell_type": "code",
   "execution_count": 47,
   "metadata": {},
   "outputs": [],
   "source": [
    "imgs = [video_path+'img_{:05}.jpg'.format(x) for x in range(1, 65)]"
   ]
  },
  {
   "cell_type": "code",
   "execution_count": 48,
   "metadata": {},
   "outputs": [
    {
     "data": {
      "text/plain": [
       "['/datadir/rawframes/brush_hair/Aussie_Brunette_Brushing_Long_Hair_brush_hair_u_nm_np1_ba_med_3/img_00001.jpg',\n",
       " '/datadir/rawframes/brush_hair/Aussie_Brunette_Brushing_Long_Hair_brush_hair_u_nm_np1_ba_med_3/img_00002.jpg',\n",
       " '/datadir/rawframes/brush_hair/Aussie_Brunette_Brushing_Long_Hair_brush_hair_u_nm_np1_ba_med_3/img_00003.jpg',\n",
       " '/datadir/rawframes/brush_hair/Aussie_Brunette_Brushing_Long_Hair_brush_hair_u_nm_np1_ba_med_3/img_00004.jpg',\n",
       " '/datadir/rawframes/brush_hair/Aussie_Brunette_Brushing_Long_Hair_brush_hair_u_nm_np1_ba_med_3/img_00005.jpg',\n",
       " '/datadir/rawframes/brush_hair/Aussie_Brunette_Brushing_Long_Hair_brush_hair_u_nm_np1_ba_med_3/img_00006.jpg',\n",
       " '/datadir/rawframes/brush_hair/Aussie_Brunette_Brushing_Long_Hair_brush_hair_u_nm_np1_ba_med_3/img_00007.jpg',\n",
       " '/datadir/rawframes/brush_hair/Aussie_Brunette_Brushing_Long_Hair_brush_hair_u_nm_np1_ba_med_3/img_00008.jpg',\n",
       " '/datadir/rawframes/brush_hair/Aussie_Brunette_Brushing_Long_Hair_brush_hair_u_nm_np1_ba_med_3/img_00009.jpg',\n",
       " '/datadir/rawframes/brush_hair/Aussie_Brunette_Brushing_Long_Hair_brush_hair_u_nm_np1_ba_med_3/img_00010.jpg',\n",
       " '/datadir/rawframes/brush_hair/Aussie_Brunette_Brushing_Long_Hair_brush_hair_u_nm_np1_ba_med_3/img_00011.jpg',\n",
       " '/datadir/rawframes/brush_hair/Aussie_Brunette_Brushing_Long_Hair_brush_hair_u_nm_np1_ba_med_3/img_00012.jpg',\n",
       " '/datadir/rawframes/brush_hair/Aussie_Brunette_Brushing_Long_Hair_brush_hair_u_nm_np1_ba_med_3/img_00013.jpg',\n",
       " '/datadir/rawframes/brush_hair/Aussie_Brunette_Brushing_Long_Hair_brush_hair_u_nm_np1_ba_med_3/img_00014.jpg',\n",
       " '/datadir/rawframes/brush_hair/Aussie_Brunette_Brushing_Long_Hair_brush_hair_u_nm_np1_ba_med_3/img_00015.jpg',\n",
       " '/datadir/rawframes/brush_hair/Aussie_Brunette_Brushing_Long_Hair_brush_hair_u_nm_np1_ba_med_3/img_00016.jpg',\n",
       " '/datadir/rawframes/brush_hair/Aussie_Brunette_Brushing_Long_Hair_brush_hair_u_nm_np1_ba_med_3/img_00017.jpg',\n",
       " '/datadir/rawframes/brush_hair/Aussie_Brunette_Brushing_Long_Hair_brush_hair_u_nm_np1_ba_med_3/img_00018.jpg',\n",
       " '/datadir/rawframes/brush_hair/Aussie_Brunette_Brushing_Long_Hair_brush_hair_u_nm_np1_ba_med_3/img_00019.jpg',\n",
       " '/datadir/rawframes/brush_hair/Aussie_Brunette_Brushing_Long_Hair_brush_hair_u_nm_np1_ba_med_3/img_00020.jpg',\n",
       " '/datadir/rawframes/brush_hair/Aussie_Brunette_Brushing_Long_Hair_brush_hair_u_nm_np1_ba_med_3/img_00021.jpg',\n",
       " '/datadir/rawframes/brush_hair/Aussie_Brunette_Brushing_Long_Hair_brush_hair_u_nm_np1_ba_med_3/img_00022.jpg',\n",
       " '/datadir/rawframes/brush_hair/Aussie_Brunette_Brushing_Long_Hair_brush_hair_u_nm_np1_ba_med_3/img_00023.jpg',\n",
       " '/datadir/rawframes/brush_hair/Aussie_Brunette_Brushing_Long_Hair_brush_hair_u_nm_np1_ba_med_3/img_00024.jpg',\n",
       " '/datadir/rawframes/brush_hair/Aussie_Brunette_Brushing_Long_Hair_brush_hair_u_nm_np1_ba_med_3/img_00025.jpg',\n",
       " '/datadir/rawframes/brush_hair/Aussie_Brunette_Brushing_Long_Hair_brush_hair_u_nm_np1_ba_med_3/img_00026.jpg',\n",
       " '/datadir/rawframes/brush_hair/Aussie_Brunette_Brushing_Long_Hair_brush_hair_u_nm_np1_ba_med_3/img_00027.jpg',\n",
       " '/datadir/rawframes/brush_hair/Aussie_Brunette_Brushing_Long_Hair_brush_hair_u_nm_np1_ba_med_3/img_00028.jpg',\n",
       " '/datadir/rawframes/brush_hair/Aussie_Brunette_Brushing_Long_Hair_brush_hair_u_nm_np1_ba_med_3/img_00029.jpg',\n",
       " '/datadir/rawframes/brush_hair/Aussie_Brunette_Brushing_Long_Hair_brush_hair_u_nm_np1_ba_med_3/img_00030.jpg',\n",
       " '/datadir/rawframes/brush_hair/Aussie_Brunette_Brushing_Long_Hair_brush_hair_u_nm_np1_ba_med_3/img_00031.jpg',\n",
       " '/datadir/rawframes/brush_hair/Aussie_Brunette_Brushing_Long_Hair_brush_hair_u_nm_np1_ba_med_3/img_00032.jpg',\n",
       " '/datadir/rawframes/brush_hair/Aussie_Brunette_Brushing_Long_Hair_brush_hair_u_nm_np1_ba_med_3/img_00033.jpg',\n",
       " '/datadir/rawframes/brush_hair/Aussie_Brunette_Brushing_Long_Hair_brush_hair_u_nm_np1_ba_med_3/img_00034.jpg',\n",
       " '/datadir/rawframes/brush_hair/Aussie_Brunette_Brushing_Long_Hair_brush_hair_u_nm_np1_ba_med_3/img_00035.jpg',\n",
       " '/datadir/rawframes/brush_hair/Aussie_Brunette_Brushing_Long_Hair_brush_hair_u_nm_np1_ba_med_3/img_00036.jpg',\n",
       " '/datadir/rawframes/brush_hair/Aussie_Brunette_Brushing_Long_Hair_brush_hair_u_nm_np1_ba_med_3/img_00037.jpg',\n",
       " '/datadir/rawframes/brush_hair/Aussie_Brunette_Brushing_Long_Hair_brush_hair_u_nm_np1_ba_med_3/img_00038.jpg',\n",
       " '/datadir/rawframes/brush_hair/Aussie_Brunette_Brushing_Long_Hair_brush_hair_u_nm_np1_ba_med_3/img_00039.jpg',\n",
       " '/datadir/rawframes/brush_hair/Aussie_Brunette_Brushing_Long_Hair_brush_hair_u_nm_np1_ba_med_3/img_00040.jpg',\n",
       " '/datadir/rawframes/brush_hair/Aussie_Brunette_Brushing_Long_Hair_brush_hair_u_nm_np1_ba_med_3/img_00041.jpg',\n",
       " '/datadir/rawframes/brush_hair/Aussie_Brunette_Brushing_Long_Hair_brush_hair_u_nm_np1_ba_med_3/img_00042.jpg',\n",
       " '/datadir/rawframes/brush_hair/Aussie_Brunette_Brushing_Long_Hair_brush_hair_u_nm_np1_ba_med_3/img_00043.jpg',\n",
       " '/datadir/rawframes/brush_hair/Aussie_Brunette_Brushing_Long_Hair_brush_hair_u_nm_np1_ba_med_3/img_00044.jpg',\n",
       " '/datadir/rawframes/brush_hair/Aussie_Brunette_Brushing_Long_Hair_brush_hair_u_nm_np1_ba_med_3/img_00045.jpg',\n",
       " '/datadir/rawframes/brush_hair/Aussie_Brunette_Brushing_Long_Hair_brush_hair_u_nm_np1_ba_med_3/img_00046.jpg',\n",
       " '/datadir/rawframes/brush_hair/Aussie_Brunette_Brushing_Long_Hair_brush_hair_u_nm_np1_ba_med_3/img_00047.jpg',\n",
       " '/datadir/rawframes/brush_hair/Aussie_Brunette_Brushing_Long_Hair_brush_hair_u_nm_np1_ba_med_3/img_00048.jpg',\n",
       " '/datadir/rawframes/brush_hair/Aussie_Brunette_Brushing_Long_Hair_brush_hair_u_nm_np1_ba_med_3/img_00049.jpg',\n",
       " '/datadir/rawframes/brush_hair/Aussie_Brunette_Brushing_Long_Hair_brush_hair_u_nm_np1_ba_med_3/img_00050.jpg',\n",
       " '/datadir/rawframes/brush_hair/Aussie_Brunette_Brushing_Long_Hair_brush_hair_u_nm_np1_ba_med_3/img_00051.jpg',\n",
       " '/datadir/rawframes/brush_hair/Aussie_Brunette_Brushing_Long_Hair_brush_hair_u_nm_np1_ba_med_3/img_00052.jpg',\n",
       " '/datadir/rawframes/brush_hair/Aussie_Brunette_Brushing_Long_Hair_brush_hair_u_nm_np1_ba_med_3/img_00053.jpg',\n",
       " '/datadir/rawframes/brush_hair/Aussie_Brunette_Brushing_Long_Hair_brush_hair_u_nm_np1_ba_med_3/img_00054.jpg',\n",
       " '/datadir/rawframes/brush_hair/Aussie_Brunette_Brushing_Long_Hair_brush_hair_u_nm_np1_ba_med_3/img_00055.jpg',\n",
       " '/datadir/rawframes/brush_hair/Aussie_Brunette_Brushing_Long_Hair_brush_hair_u_nm_np1_ba_med_3/img_00056.jpg',\n",
       " '/datadir/rawframes/brush_hair/Aussie_Brunette_Brushing_Long_Hair_brush_hair_u_nm_np1_ba_med_3/img_00057.jpg',\n",
       " '/datadir/rawframes/brush_hair/Aussie_Brunette_Brushing_Long_Hair_brush_hair_u_nm_np1_ba_med_3/img_00058.jpg',\n",
       " '/datadir/rawframes/brush_hair/Aussie_Brunette_Brushing_Long_Hair_brush_hair_u_nm_np1_ba_med_3/img_00059.jpg',\n",
       " '/datadir/rawframes/brush_hair/Aussie_Brunette_Brushing_Long_Hair_brush_hair_u_nm_np1_ba_med_3/img_00060.jpg',\n",
       " '/datadir/rawframes/brush_hair/Aussie_Brunette_Brushing_Long_Hair_brush_hair_u_nm_np1_ba_med_3/img_00061.jpg',\n",
       " '/datadir/rawframes/brush_hair/Aussie_Brunette_Brushing_Long_Hair_brush_hair_u_nm_np1_ba_med_3/img_00062.jpg',\n",
       " '/datadir/rawframes/brush_hair/Aussie_Brunette_Brushing_Long_Hair_brush_hair_u_nm_np1_ba_med_3/img_00063.jpg',\n",
       " '/datadir/rawframes/brush_hair/Aussie_Brunette_Brushing_Long_Hair_brush_hair_u_nm_np1_ba_med_3/img_00064.jpg']"
      ]
     },
     "execution_count": 48,
     "metadata": {},
     "output_type": "execute_result"
    }
   ],
   "source": [
    "imgs"
   ]
  },
  {
   "cell_type": "code",
   "execution_count": 49,
   "metadata": {},
   "outputs": [],
   "source": [
    "from slidingwindow import load_frames"
   ]
  },
  {
   "cell_type": "code",
   "execution_count": 50,
   "metadata": {},
   "outputs": [],
   "source": [
    "frames = load_frames(imgs)"
   ]
  },
  {
   "cell_type": "code",
   "execution_count": 23,
   "metadata": {},
   "outputs": [
    {
     "data": {
      "text/plain": [
       "[<PIL.Image.Image image mode=RGB size=320x240 at 0x7FB78FE0CEB8>,\n",
       " <PIL.Image.Image image mode=RGB size=320x240 at 0x7FB78FE0CE80>,\n",
       " <PIL.Image.Image image mode=RGB size=320x240 at 0x7FB78FE0CB00>,\n",
       " <PIL.Image.Image image mode=RGB size=320x240 at 0x7FB78FE0CCF8>,\n",
       " <PIL.Image.Image image mode=RGB size=320x240 at 0x7FB78FE0C470>,\n",
       " <PIL.Image.Image image mode=RGB size=320x240 at 0x7FB78FE0CBA8>,\n",
       " <PIL.Image.Image image mode=RGB size=320x240 at 0x7FB78FE0CA90>,\n",
       " <PIL.Image.Image image mode=RGB size=320x240 at 0x7FB78FE0C6A0>,\n",
       " <PIL.Image.Image image mode=RGB size=320x240 at 0x7FB78FE0CDA0>]"
      ]
     },
     "execution_count": 23,
     "metadata": {},
     "output_type": "execute_result"
    }
   ],
   "source": [
    "frames"
   ]
  },
  {
   "cell_type": "code",
   "execution_count": 55,
   "metadata": {},
   "outputs": [],
   "source": [
    "def predict_test(frames, model):\n",
    "    with torch.no_grad():\n",
    "        batch = construct_input(frames)\n",
    "        window_predictions = predict_input(model, batch)\n",
    "        window_proba = F.softmax(window_predictions, dim=1)\n",
    "        window_top_pred = window_proba.max(1)\n",
    "        #print(window_top_pred)"
   ]
  },
  {
   "cell_type": "code",
   "execution_count": 74,
   "metadata": {},
   "outputs": [
    {
     "name": "stdout",
     "output_type": "stream",
     "text": [
      "9 input frames,  28.64 inferences per second, inferences take  34.91  ms\n",
      "32 input frames,  11.48 inferences per second, inferences take  87.10  ms\n",
      "64 input frames,  6.54 inferences per second, inferences take  153.00  ms\n"
     ]
    }
   ],
   "source": [
    "window_lens = [9, 32, 64]\n",
    "for window_len in window_lens:\n",
    "    test_frames = frames[:window_len]\n",
    "    start = time.time()\n",
    "    test_time = 60\n",
    "    elapsed = 0\n",
    "    inferences = 0\n",
    "    while elapsed < test_time:\n",
    "        predict_test(test_frames, model)\n",
    "        inferences += 1\n",
    "        elapsed = time.time() - start\n",
    "    infpersec = inferences / elapsed\n",
    "    print(str(window_len)+\" input frames, \", \"{0:.2f}\".format(infpersec)+\" inferences per second, inferences take \", \"{0:.2f}\".format(1000/infpersec), \" ms\")"
   ]
  }
 ],
 "metadata": {
  "kernelspec": {
   "display_name": "pytorchi3d",
   "language": "python",
   "name": "pytorchi3d"
  },
  "language_info": {
   "codemirror_mode": {
    "name": "ipython",
    "version": 3
   },
   "file_extension": ".py",
   "mimetype": "text/x-python",
   "name": "python",
   "nbconvert_exporter": "python",
   "pygments_lexer": "ipython3",
   "version": "3.6.2"
  }
 },
 "nbformat": 4,
 "nbformat_minor": 2
}
